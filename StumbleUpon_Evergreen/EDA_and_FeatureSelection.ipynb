{
 "cells": [
  {
   "cell_type": "code",
   "execution_count": 1,
   "metadata": {},
   "outputs": [
    {
     "data": {
      "text/html": [
       "<div>\n",
       "<style scoped>\n",
       "    .dataframe tbody tr th:only-of-type {\n",
       "        vertical-align: middle;\n",
       "    }\n",
       "\n",
       "    .dataframe tbody tr th {\n",
       "        vertical-align: top;\n",
       "    }\n",
       "\n",
       "    .dataframe thead th {\n",
       "        text-align: right;\n",
       "    }\n",
       "</style>\n",
       "<table border=\"1\" class=\"dataframe\">\n",
       "  <thead>\n",
       "    <tr style=\"text-align: right;\">\n",
       "      <th></th>\n",
       "      <th>url</th>\n",
       "      <th>urlid</th>\n",
       "      <th>boilerplate</th>\n",
       "      <th>alchemy_category</th>\n",
       "      <th>alchemy_category_score</th>\n",
       "      <th>avglinksize</th>\n",
       "      <th>commonlinkratio_1</th>\n",
       "      <th>commonlinkratio_2</th>\n",
       "      <th>commonlinkratio_3</th>\n",
       "      <th>commonlinkratio_4</th>\n",
       "      <th>...</th>\n",
       "      <th>is_news</th>\n",
       "      <th>lengthyLinkDomain</th>\n",
       "      <th>linkwordscore</th>\n",
       "      <th>news_front_page</th>\n",
       "      <th>non_markup_alphanum_characters</th>\n",
       "      <th>numberOfLinks</th>\n",
       "      <th>numwords_in_url</th>\n",
       "      <th>parametrizedLinkRatio</th>\n",
       "      <th>spelling_errors_ratio</th>\n",
       "      <th>label</th>\n",
       "    </tr>\n",
       "  </thead>\n",
       "  <tbody>\n",
       "    <tr>\n",
       "      <th>0</th>\n",
       "      <td>http://www.bloomberg.com/news/2010-12-23/ibm-p...</td>\n",
       "      <td>4042</td>\n",
       "      <td>{\"title\":\"IBM Sees Holographic Calls Air Breat...</td>\n",
       "      <td>business</td>\n",
       "      <td>0.789131</td>\n",
       "      <td>2.055556</td>\n",
       "      <td>0.676471</td>\n",
       "      <td>0.205882</td>\n",
       "      <td>0.047059</td>\n",
       "      <td>0.023529</td>\n",
       "      <td>...</td>\n",
       "      <td>1</td>\n",
       "      <td>1</td>\n",
       "      <td>24</td>\n",
       "      <td>0</td>\n",
       "      <td>5424</td>\n",
       "      <td>170</td>\n",
       "      <td>8</td>\n",
       "      <td>0.152941</td>\n",
       "      <td>0.079130</td>\n",
       "      <td>0</td>\n",
       "    </tr>\n",
       "    <tr>\n",
       "      <th>1</th>\n",
       "      <td>http://www.popsci.com/technology/article/2012-...</td>\n",
       "      <td>8471</td>\n",
       "      <td>{\"title\":\"The Fully Electronic Futuristic Star...</td>\n",
       "      <td>recreation</td>\n",
       "      <td>0.574147</td>\n",
       "      <td>3.677966</td>\n",
       "      <td>0.508021</td>\n",
       "      <td>0.288770</td>\n",
       "      <td>0.213904</td>\n",
       "      <td>0.144385</td>\n",
       "      <td>...</td>\n",
       "      <td>1</td>\n",
       "      <td>1</td>\n",
       "      <td>40</td>\n",
       "      <td>0</td>\n",
       "      <td>4973</td>\n",
       "      <td>187</td>\n",
       "      <td>9</td>\n",
       "      <td>0.181818</td>\n",
       "      <td>0.125448</td>\n",
       "      <td>1</td>\n",
       "    </tr>\n",
       "    <tr>\n",
       "      <th>2</th>\n",
       "      <td>http://www.menshealth.com/health/flu-fighting-...</td>\n",
       "      <td>1164</td>\n",
       "      <td>{\"title\":\"Fruits that Fight the Flu fruits tha...</td>\n",
       "      <td>health</td>\n",
       "      <td>0.996526</td>\n",
       "      <td>2.382883</td>\n",
       "      <td>0.562016</td>\n",
       "      <td>0.321705</td>\n",
       "      <td>0.120155</td>\n",
       "      <td>0.042636</td>\n",
       "      <td>...</td>\n",
       "      <td>1</td>\n",
       "      <td>1</td>\n",
       "      <td>55</td>\n",
       "      <td>0</td>\n",
       "      <td>2240</td>\n",
       "      <td>258</td>\n",
       "      <td>11</td>\n",
       "      <td>0.166667</td>\n",
       "      <td>0.057613</td>\n",
       "      <td>1</td>\n",
       "    </tr>\n",
       "    <tr>\n",
       "      <th>3</th>\n",
       "      <td>http://www.dumblittleman.com/2007/12/10-foolpr...</td>\n",
       "      <td>6684</td>\n",
       "      <td>{\"title\":\"10 Foolproof Tips for Better Sleep \"...</td>\n",
       "      <td>health</td>\n",
       "      <td>0.801248</td>\n",
       "      <td>1.543103</td>\n",
       "      <td>0.400000</td>\n",
       "      <td>0.100000</td>\n",
       "      <td>0.016667</td>\n",
       "      <td>0.000000</td>\n",
       "      <td>...</td>\n",
       "      <td>1</td>\n",
       "      <td>0</td>\n",
       "      <td>24</td>\n",
       "      <td>0</td>\n",
       "      <td>2737</td>\n",
       "      <td>120</td>\n",
       "      <td>5</td>\n",
       "      <td>0.041667</td>\n",
       "      <td>0.100858</td>\n",
       "      <td>1</td>\n",
       "    </tr>\n",
       "    <tr>\n",
       "      <th>4</th>\n",
       "      <td>http://bleacherreport.com/articles/1205138-the...</td>\n",
       "      <td>9006</td>\n",
       "      <td>{\"title\":\"The 50 Coolest Jerseys You Didn t Kn...</td>\n",
       "      <td>sports</td>\n",
       "      <td>0.719157</td>\n",
       "      <td>2.676471</td>\n",
       "      <td>0.500000</td>\n",
       "      <td>0.222222</td>\n",
       "      <td>0.123457</td>\n",
       "      <td>0.043210</td>\n",
       "      <td>...</td>\n",
       "      <td>1</td>\n",
       "      <td>1</td>\n",
       "      <td>14</td>\n",
       "      <td>0</td>\n",
       "      <td>12032</td>\n",
       "      <td>162</td>\n",
       "      <td>10</td>\n",
       "      <td>0.098765</td>\n",
       "      <td>0.082569</td>\n",
       "      <td>0</td>\n",
       "    </tr>\n",
       "  </tbody>\n",
       "</table>\n",
       "<p>5 rows × 27 columns</p>\n",
       "</div>"
      ],
      "text/plain": [
       "                                                 url  urlid  \\\n",
       "0  http://www.bloomberg.com/news/2010-12-23/ibm-p...   4042   \n",
       "1  http://www.popsci.com/technology/article/2012-...   8471   \n",
       "2  http://www.menshealth.com/health/flu-fighting-...   1164   \n",
       "3  http://www.dumblittleman.com/2007/12/10-foolpr...   6684   \n",
       "4  http://bleacherreport.com/articles/1205138-the...   9006   \n",
       "\n",
       "                                         boilerplate alchemy_category  \\\n",
       "0  {\"title\":\"IBM Sees Holographic Calls Air Breat...         business   \n",
       "1  {\"title\":\"The Fully Electronic Futuristic Star...       recreation   \n",
       "2  {\"title\":\"Fruits that Fight the Flu fruits tha...           health   \n",
       "3  {\"title\":\"10 Foolproof Tips for Better Sleep \"...           health   \n",
       "4  {\"title\":\"The 50 Coolest Jerseys You Didn t Kn...           sports   \n",
       "\n",
       "  alchemy_category_score  avglinksize  commonlinkratio_1  commonlinkratio_2  \\\n",
       "0               0.789131     2.055556           0.676471           0.205882   \n",
       "1               0.574147     3.677966           0.508021           0.288770   \n",
       "2               0.996526     2.382883           0.562016           0.321705   \n",
       "3               0.801248     1.543103           0.400000           0.100000   \n",
       "4               0.719157     2.676471           0.500000           0.222222   \n",
       "\n",
       "   commonlinkratio_3  commonlinkratio_4  ...  is_news  lengthyLinkDomain  \\\n",
       "0           0.047059           0.023529  ...        1                  1   \n",
       "1           0.213904           0.144385  ...        1                  1   \n",
       "2           0.120155           0.042636  ...        1                  1   \n",
       "3           0.016667           0.000000  ...        1                  0   \n",
       "4           0.123457           0.043210  ...        1                  1   \n",
       "\n",
       "   linkwordscore  news_front_page  non_markup_alphanum_characters  \\\n",
       "0             24                0                            5424   \n",
       "1             40                0                            4973   \n",
       "2             55                0                            2240   \n",
       "3             24                0                            2737   \n",
       "4             14                0                           12032   \n",
       "\n",
       "   numberOfLinks  numwords_in_url parametrizedLinkRatio  \\\n",
       "0            170                8              0.152941   \n",
       "1            187                9              0.181818   \n",
       "2            258               11              0.166667   \n",
       "3            120                5              0.041667   \n",
       "4            162               10              0.098765   \n",
       "\n",
       "   spelling_errors_ratio  label  \n",
       "0               0.079130      0  \n",
       "1               0.125448      1  \n",
       "2               0.057613      1  \n",
       "3               0.100858      1  \n",
       "4               0.082569      0  \n",
       "\n",
       "[5 rows x 27 columns]"
      ]
     },
     "execution_count": 1,
     "metadata": {},
     "output_type": "execute_result"
    }
   ],
   "source": [
    "import pandas as pd\n",
    "\n",
    "data = pd.read_csv('train.tsv',delimiter=\"\\t\")\n",
    "data.head()"
   ]
  },
  {
   "cell_type": "code",
   "execution_count": 2,
   "metadata": {},
   "outputs": [
    {
     "name": "stdout",
     "output_type": "stream",
     "text": [
      "<class 'pandas.core.frame.DataFrame'>\n",
      "RangeIndex: 7395 entries, 0 to 7394\n",
      "Data columns (total 27 columns):\n",
      " #   Column                          Non-Null Count  Dtype  \n",
      "---  ------                          --------------  -----  \n",
      " 0   url                             7395 non-null   object \n",
      " 1   urlid                           7395 non-null   int64  \n",
      " 2   boilerplate                     7395 non-null   object \n",
      " 3   alchemy_category                7395 non-null   object \n",
      " 4   alchemy_category_score          7395 non-null   object \n",
      " 5   avglinksize                     7395 non-null   float64\n",
      " 6   commonlinkratio_1               7395 non-null   float64\n",
      " 7   commonlinkratio_2               7395 non-null   float64\n",
      " 8   commonlinkratio_3               7395 non-null   float64\n",
      " 9   commonlinkratio_4               7395 non-null   float64\n",
      " 10  compression_ratio               7395 non-null   float64\n",
      " 11  embed_ratio                     7395 non-null   float64\n",
      " 12  framebased                      7395 non-null   int64  \n",
      " 13  frameTagRatio                   7395 non-null   float64\n",
      " 14  hasDomainLink                   7395 non-null   int64  \n",
      " 15  html_ratio                      7395 non-null   float64\n",
      " 16  image_ratio                     7395 non-null   float64\n",
      " 17  is_news                         7395 non-null   object \n",
      " 18  lengthyLinkDomain               7395 non-null   int64  \n",
      " 19  linkwordscore                   7395 non-null   int64  \n",
      " 20  news_front_page                 7395 non-null   object \n",
      " 21  non_markup_alphanum_characters  7395 non-null   int64  \n",
      " 22  numberOfLinks                   7395 non-null   int64  \n",
      " 23  numwords_in_url                 7395 non-null   int64  \n",
      " 24  parametrizedLinkRatio           7395 non-null   float64\n",
      " 25  spelling_errors_ratio           7395 non-null   float64\n",
      " 26  label                           7395 non-null   int64  \n",
      "dtypes: float64(12), int64(9), object(6)\n",
      "memory usage: 1.5+ MB\n"
     ]
    }
   ],
   "source": [
    "data.info()"
   ]
  },
  {
   "cell_type": "code",
   "execution_count": 3,
   "metadata": {},
   "outputs": [
    {
     "data": {
      "text/plain": [
       "'{\"title\":\"Fruits that Fight the Flu fruits that fight the flu | cold & flu | men\\'s health\",\"body\":\"Apples The most popular source of antioxidants in our diet one apple has an antioxidant effect equivalent to 1 500 mg of vitamin C Apples are loaded with protective flavonoids which may prevent heart disease and cancer Next Papayas With 250 percent of the RDA of vitamin C a papaya can help kick a cold right out of your system The beta carotene and vitamins C and E in papayas reduce inflammation throughout the body lessening the effects of asthma Next Cranberries Cranberries have more antioxidants than other common fruits and veggies One serving has five times the amount in broccoli Cranberries are a natural probiotic enhancing good bacteria levels in the gut and protecting it from foodborne illnesses Next Grapefruit Loaded with vitamin C grapefruit also contains natural compounds called limonoids which can lower cholesterol The red varieties are a potent source of the cancer fighting substance lycopene Next Bananas One of the top food sources of vitamin B6 bananas help reduce fatigue depression stress and insomnia Bananas are high in magnesium which keeps bones strong and potassium which helps prevent heart disease and high blood pressure Next everything you need to know about cold and flu so you don\\\\u2019t get sick this season, at men\\\\u2019s health.com cold, flu, infection, sore throat, sneeze, immunity, germs, allergies, stay healthy, sick, contagious, medicines, cold medicine\",\"url\":\"menshealth health flu fighting fruits cm mmc Facebook Mens Health Content Health Fight Flu With Fruit\"}'"
      ]
     },
     "execution_count": 3,
     "metadata": {},
     "output_type": "execute_result"
    }
   ],
   "source": [
    "data[\"boilerplate\"][2]"
   ]
  },
  {
   "cell_type": "code",
   "execution_count": 4,
   "metadata": {},
   "outputs": [],
   "source": [
    "import json\n",
    "import numpy as np\n",
    "\n",
    "def getParam(text,param):\n",
    "    boilerplate = json.loads(text)\n",
    "    if param in boilerplate.keys():\n",
    "        return boilerplate[param]\n",
    "    else:\n",
    "        return np.nan\n"
   ]
  },
  {
   "cell_type": "code",
   "execution_count": 5,
   "metadata": {},
   "outputs": [
    {
     "data": {
      "text/plain": [
       "'The Fully Electronic Futuristic Starting Gun That Eliminates Advantages in Races the fully electronic, futuristic starting gun that eliminates advantages in races the fully electronic, futuristic starting gun that eliminates advantages in races'"
      ]
     },
     "execution_count": 5,
     "metadata": {},
     "output_type": "execute_result"
    }
   ],
   "source": [
    "getParam(data[\"boilerplate\"][1],\"title\")"
   ]
  },
  {
   "cell_type": "code",
   "execution_count": 6,
   "metadata": {},
   "outputs": [
    {
     "data": {
      "text/html": [
       "<div>\n",
       "<style scoped>\n",
       "    .dataframe tbody tr th:only-of-type {\n",
       "        vertical-align: middle;\n",
       "    }\n",
       "\n",
       "    .dataframe tbody tr th {\n",
       "        vertical-align: top;\n",
       "    }\n",
       "\n",
       "    .dataframe thead th {\n",
       "        text-align: right;\n",
       "    }\n",
       "</style>\n",
       "<table border=\"1\" class=\"dataframe\">\n",
       "  <thead>\n",
       "    <tr style=\"text-align: right;\">\n",
       "      <th></th>\n",
       "      <th>url</th>\n",
       "      <th>urlid</th>\n",
       "      <th>boilerplate</th>\n",
       "      <th>alchemy_category</th>\n",
       "      <th>alchemy_category_score</th>\n",
       "      <th>avglinksize</th>\n",
       "      <th>commonlinkratio_1</th>\n",
       "      <th>commonlinkratio_2</th>\n",
       "      <th>commonlinkratio_3</th>\n",
       "      <th>commonlinkratio_4</th>\n",
       "      <th>...</th>\n",
       "      <th>linkwordscore</th>\n",
       "      <th>news_front_page</th>\n",
       "      <th>non_markup_alphanum_characters</th>\n",
       "      <th>numberOfLinks</th>\n",
       "      <th>numwords_in_url</th>\n",
       "      <th>parametrizedLinkRatio</th>\n",
       "      <th>spelling_errors_ratio</th>\n",
       "      <th>label</th>\n",
       "      <th>title</th>\n",
       "      <th>body</th>\n",
       "    </tr>\n",
       "  </thead>\n",
       "  <tbody>\n",
       "    <tr>\n",
       "      <th>0</th>\n",
       "      <td>bloomberg news 2010 12 23 ibm predicts hologra...</td>\n",
       "      <td>4042</td>\n",
       "      <td>{\"title\":\"IBM Sees Holographic Calls Air Breat...</td>\n",
       "      <td>business</td>\n",
       "      <td>0.789131</td>\n",
       "      <td>2.055556</td>\n",
       "      <td>0.676471</td>\n",
       "      <td>0.205882</td>\n",
       "      <td>0.047059</td>\n",
       "      <td>0.023529</td>\n",
       "      <td>...</td>\n",
       "      <td>24</td>\n",
       "      <td>0</td>\n",
       "      <td>5424</td>\n",
       "      <td>170</td>\n",
       "      <td>8</td>\n",
       "      <td>0.152941</td>\n",
       "      <td>0.079130</td>\n",
       "      <td>0</td>\n",
       "      <td>IBM Sees Holographic Calls Air Breathing Batte...</td>\n",
       "      <td>A sign stands outside the International Busine...</td>\n",
       "    </tr>\n",
       "    <tr>\n",
       "      <th>1</th>\n",
       "      <td>popsci technology article 2012 07 electronic f...</td>\n",
       "      <td>8471</td>\n",
       "      <td>{\"title\":\"The Fully Electronic Futuristic Star...</td>\n",
       "      <td>recreation</td>\n",
       "      <td>0.574147</td>\n",
       "      <td>3.677966</td>\n",
       "      <td>0.508021</td>\n",
       "      <td>0.288770</td>\n",
       "      <td>0.213904</td>\n",
       "      <td>0.144385</td>\n",
       "      <td>...</td>\n",
       "      <td>40</td>\n",
       "      <td>0</td>\n",
       "      <td>4973</td>\n",
       "      <td>187</td>\n",
       "      <td>9</td>\n",
       "      <td>0.181818</td>\n",
       "      <td>0.125448</td>\n",
       "      <td>1</td>\n",
       "      <td>The Fully Electronic Futuristic Starting Gun T...</td>\n",
       "      <td>And that can be carried on a plane without the...</td>\n",
       "    </tr>\n",
       "    <tr>\n",
       "      <th>2</th>\n",
       "      <td>menshealth health flu fighting fruits cm mmc F...</td>\n",
       "      <td>1164</td>\n",
       "      <td>{\"title\":\"Fruits that Fight the Flu fruits tha...</td>\n",
       "      <td>health</td>\n",
       "      <td>0.996526</td>\n",
       "      <td>2.382883</td>\n",
       "      <td>0.562016</td>\n",
       "      <td>0.321705</td>\n",
       "      <td>0.120155</td>\n",
       "      <td>0.042636</td>\n",
       "      <td>...</td>\n",
       "      <td>55</td>\n",
       "      <td>0</td>\n",
       "      <td>2240</td>\n",
       "      <td>258</td>\n",
       "      <td>11</td>\n",
       "      <td>0.166667</td>\n",
       "      <td>0.057613</td>\n",
       "      <td>1</td>\n",
       "      <td>Fruits that Fight the Flu fruits that fight th...</td>\n",
       "      <td>Apples The most popular source of antioxidants...</td>\n",
       "    </tr>\n",
       "    <tr>\n",
       "      <th>3</th>\n",
       "      <td>dumblittleman 2007 12 10 foolproof tips for be...</td>\n",
       "      <td>6684</td>\n",
       "      <td>{\"title\":\"10 Foolproof Tips for Better Sleep \"...</td>\n",
       "      <td>health</td>\n",
       "      <td>0.801248</td>\n",
       "      <td>1.543103</td>\n",
       "      <td>0.400000</td>\n",
       "      <td>0.100000</td>\n",
       "      <td>0.016667</td>\n",
       "      <td>0.000000</td>\n",
       "      <td>...</td>\n",
       "      <td>24</td>\n",
       "      <td>0</td>\n",
       "      <td>2737</td>\n",
       "      <td>120</td>\n",
       "      <td>5</td>\n",
       "      <td>0.041667</td>\n",
       "      <td>0.100858</td>\n",
       "      <td>1</td>\n",
       "      <td>10 Foolproof Tips for Better Sleep</td>\n",
       "      <td>There was a period in my life when I had a lot...</td>\n",
       "    </tr>\n",
       "    <tr>\n",
       "      <th>4</th>\n",
       "      <td>bleacherreport articles 1205138 the 50 coolest...</td>\n",
       "      <td>9006</td>\n",
       "      <td>{\"title\":\"The 50 Coolest Jerseys You Didn t Kn...</td>\n",
       "      <td>sports</td>\n",
       "      <td>0.719157</td>\n",
       "      <td>2.676471</td>\n",
       "      <td>0.500000</td>\n",
       "      <td>0.222222</td>\n",
       "      <td>0.123457</td>\n",
       "      <td>0.043210</td>\n",
       "      <td>...</td>\n",
       "      <td>14</td>\n",
       "      <td>0</td>\n",
       "      <td>12032</td>\n",
       "      <td>162</td>\n",
       "      <td>10</td>\n",
       "      <td>0.098765</td>\n",
       "      <td>0.082569</td>\n",
       "      <td>0</td>\n",
       "      <td>The 50 Coolest Jerseys You Didn t Know Existed...</td>\n",
       "      <td>Jersey sales is a curious business Whether you...</td>\n",
       "    </tr>\n",
       "  </tbody>\n",
       "</table>\n",
       "<p>5 rows × 29 columns</p>\n",
       "</div>"
      ],
      "text/plain": [
       "                                                 url  urlid  \\\n",
       "0  bloomberg news 2010 12 23 ibm predicts hologra...   4042   \n",
       "1  popsci technology article 2012 07 electronic f...   8471   \n",
       "2  menshealth health flu fighting fruits cm mmc F...   1164   \n",
       "3  dumblittleman 2007 12 10 foolproof tips for be...   6684   \n",
       "4  bleacherreport articles 1205138 the 50 coolest...   9006   \n",
       "\n",
       "                                         boilerplate alchemy_category  \\\n",
       "0  {\"title\":\"IBM Sees Holographic Calls Air Breat...         business   \n",
       "1  {\"title\":\"The Fully Electronic Futuristic Star...       recreation   \n",
       "2  {\"title\":\"Fruits that Fight the Flu fruits tha...           health   \n",
       "3  {\"title\":\"10 Foolproof Tips for Better Sleep \"...           health   \n",
       "4  {\"title\":\"The 50 Coolest Jerseys You Didn t Kn...           sports   \n",
       "\n",
       "  alchemy_category_score  avglinksize  commonlinkratio_1  commonlinkratio_2  \\\n",
       "0               0.789131     2.055556           0.676471           0.205882   \n",
       "1               0.574147     3.677966           0.508021           0.288770   \n",
       "2               0.996526     2.382883           0.562016           0.321705   \n",
       "3               0.801248     1.543103           0.400000           0.100000   \n",
       "4               0.719157     2.676471           0.500000           0.222222   \n",
       "\n",
       "   commonlinkratio_3  commonlinkratio_4  ...  linkwordscore  news_front_page  \\\n",
       "0           0.047059           0.023529  ...             24                0   \n",
       "1           0.213904           0.144385  ...             40                0   \n",
       "2           0.120155           0.042636  ...             55                0   \n",
       "3           0.016667           0.000000  ...             24                0   \n",
       "4           0.123457           0.043210  ...             14                0   \n",
       "\n",
       "   non_markup_alphanum_characters  numberOfLinks  numwords_in_url  \\\n",
       "0                            5424            170                8   \n",
       "1                            4973            187                9   \n",
       "2                            2240            258               11   \n",
       "3                            2737            120                5   \n",
       "4                           12032            162               10   \n",
       "\n",
       "   parametrizedLinkRatio  spelling_errors_ratio label  \\\n",
       "0               0.152941               0.079130     0   \n",
       "1               0.181818               0.125448     1   \n",
       "2               0.166667               0.057613     1   \n",
       "3               0.041667               0.100858     1   \n",
       "4               0.098765               0.082569     0   \n",
       "\n",
       "                                               title  \\\n",
       "0  IBM Sees Holographic Calls Air Breathing Batte...   \n",
       "1  The Fully Electronic Futuristic Starting Gun T...   \n",
       "2  Fruits that Fight the Flu fruits that fight th...   \n",
       "3                10 Foolproof Tips for Better Sleep    \n",
       "4  The 50 Coolest Jerseys You Didn t Know Existed...   \n",
       "\n",
       "                                                body  \n",
       "0  A sign stands outside the International Busine...  \n",
       "1  And that can be carried on a plane without the...  \n",
       "2  Apples The most popular source of antioxidants...  \n",
       "3  There was a period in my life when I had a lot...  \n",
       "4  Jersey sales is a curious business Whether you...  \n",
       "\n",
       "[5 rows x 29 columns]"
      ]
     },
     "execution_count": 6,
     "metadata": {},
     "output_type": "execute_result"
    }
   ],
   "source": [
    "\n",
    "data[\"title\"] = data[\"boilerplate\"].apply(lambda x:getParam(x,\"title\") )\n",
    "data[\"body\"] = data[\"boilerplate\"].apply(lambda x:getParam(x,\"body\") )\n",
    "data[\"url\"] = data[\"boilerplate\"].apply(lambda x:getParam(x,\"url\") )\n",
    "\n",
    "data.head()"
   ]
  },
  {
   "cell_type": "code",
   "execution_count": 7,
   "metadata": {},
   "outputs": [
    {
     "name": "stdout",
     "output_type": "stream",
     "text": [
      "<class 'pandas.core.frame.DataFrame'>\n",
      "RangeIndex: 7395 entries, 0 to 7394\n",
      "Data columns (total 29 columns):\n",
      " #   Column                          Non-Null Count  Dtype  \n",
      "---  ------                          --------------  -----  \n",
      " 0   url                             7335 non-null   object \n",
      " 1   urlid                           7395 non-null   int64  \n",
      " 2   boilerplate                     7395 non-null   object \n",
      " 3   alchemy_category                7395 non-null   object \n",
      " 4   alchemy_category_score          7395 non-null   object \n",
      " 5   avglinksize                     7395 non-null   float64\n",
      " 6   commonlinkratio_1               7395 non-null   float64\n",
      " 7   commonlinkratio_2               7395 non-null   float64\n",
      " 8   commonlinkratio_3               7395 non-null   float64\n",
      " 9   commonlinkratio_4               7395 non-null   float64\n",
      " 10  compression_ratio               7395 non-null   float64\n",
      " 11  embed_ratio                     7395 non-null   float64\n",
      " 12  framebased                      7395 non-null   int64  \n",
      " 13  frameTagRatio                   7395 non-null   float64\n",
      " 14  hasDomainLink                   7395 non-null   int64  \n",
      " 15  html_ratio                      7395 non-null   float64\n",
      " 16  image_ratio                     7395 non-null   float64\n",
      " 17  is_news                         7395 non-null   object \n",
      " 18  lengthyLinkDomain               7395 non-null   int64  \n",
      " 19  linkwordscore                   7395 non-null   int64  \n",
      " 20  news_front_page                 7395 non-null   object \n",
      " 21  non_markup_alphanum_characters  7395 non-null   int64  \n",
      " 22  numberOfLinks                   7395 non-null   int64  \n",
      " 23  numwords_in_url                 7395 non-null   int64  \n",
      " 24  parametrizedLinkRatio           7395 non-null   float64\n",
      " 25  spelling_errors_ratio           7395 non-null   float64\n",
      " 26  label                           7395 non-null   int64  \n",
      " 27  title                           7382 non-null   object \n",
      " 28  body                            7338 non-null   object \n",
      "dtypes: float64(12), int64(9), object(8)\n",
      "memory usage: 1.6+ MB\n"
     ]
    }
   ],
   "source": [
    "data.info()"
   ]
  },
  {
   "cell_type": "code",
   "execution_count": 8,
   "metadata": {},
   "outputs": [
    {
     "data": {
      "text/plain": [
       "[]"
      ]
     },
     "execution_count": 8,
     "metadata": {},
     "output_type": "execute_result"
    }
   ],
   "source": [
    "cols_with_high_missing = [col for col in data.columns if data[col].isna().mean()>0.6]\n",
    "cols_with_high_missing"
   ]
  },
  {
   "cell_type": "code",
   "execution_count": 9,
   "metadata": {},
   "outputs": [
    {
     "data": {
      "text/plain": [
       "['url', 'title', 'body']"
      ]
     },
     "execution_count": 9,
     "metadata": {},
     "output_type": "execute_result"
    }
   ],
   "source": [
    "cols_with_na = [col for col in data.columns if data[col].isna().sum()>0]\n",
    "cols_with_na"
   ]
  },
  {
   "cell_type": "code",
   "execution_count": 10,
   "metadata": {},
   "outputs": [
    {
     "data": {
      "text/plain": [
       "{'urlid': -1.1955714263947106,\n",
       " 'avglinksize': 751.024529648441,\n",
       " 'commonlinkratio_1': -0.34259691345407894,\n",
       " 'commonlinkratio_2': 1.1415596607021277,\n",
       " 'commonlinkratio_3': 8.106927916196621,\n",
       " 'commonlinkratio_4': 15.72742940006913,\n",
       " 'compression_ratio': 6.856308650766497,\n",
       " 'embed_ratio': 4.663042399058981,\n",
       " 'framebased': -3.0,\n",
       " 'frameTagRatio': 9.214596057604272,\n",
       " 'hasDomainLink': 42.12360190290802,\n",
       " 'html_ratio': 4.851584709114504,\n",
       " 'image_ratio': 1731.6117126358947,\n",
       " 'lengthyLinkDomain': -1.5416927276616772,\n",
       " 'linkwordscore': 0.20197825362628397,\n",
       " 'non_markup_alphanum_characters': 95.362247637254,\n",
       " 'numberOfLinks': 163.40994731321382,\n",
       " 'numwords_in_url': 0.5159249293277282,\n",
       " 'parametrizedLinkRatio': 3.1901974465044036,\n",
       " 'spelling_errors_ratio': 49.579215006242585,\n",
       " 'label': -1.9971593063405098}"
      ]
     },
     "execution_count": 10,
     "metadata": {},
     "output_type": "execute_result"
    }
   ],
   "source": [
    "from scipy.stats import kurtosis\n",
    "from matplotlib import pyplot as plt\n",
    "\n",
    "kurt = {col:kurtosis(data[col].tolist()) for col in data.columns if data[col].dtype!=\"object\"}\n",
    "kurt"
   ]
  },
  {
   "cell_type": "code",
   "execution_count": 11,
   "metadata": {},
   "outputs": [
    {
     "data": {
      "image/png": "[encoded data removed]",
      "text/plain": [
       "<Figure size 2160x504 with 1 Axes>"
      ]
     },
     "metadata": {
      "needs_background": "light"
     },
     "output_type": "display_data"
    }
   ],
   "source": [
    "\n",
    "fig = plt.figure(figsize =(30, 7))\n",
    " \n",
    "# Horizontal Bar Plot\n",
    "plt.bar(kurt.keys(),kurt.values())\n",
    " \n",
    "# Show Plot\n",
    "plt.show()"
   ]
  },
  {
   "cell_type": "code",
   "execution_count": 12,
   "metadata": {},
   "outputs": [],
   "source": [
    "# Remove Outliers with Quantile\n",
    "\n",
    "def remove_outliers(col):\n",
    "    Q1 = data[col].quantile(0.25)\n",
    "    Q3 = data[col].quantile(0.75)\n",
    "    IQR = Q3-Q1\n",
    "    lb = Q3 - 1.5*Q1\n",
    "    ub = Q3 + 1.5*Q1\n",
    "    data[col] = np.where(data[col]<lb,lb,data[col])\n",
    "    data[col] = np.where(data[col]>ub,ub,data[col])\n",
    "    return data[col]\n"
   ]
  },
  {
   "cell_type": "code",
   "execution_count": 13,
   "metadata": {},
   "outputs": [],
   "source": [
    "for col in data.columns:\n",
    "    if data[col].dtype!=\"object\":\n",
    "        data[col] = remove_outliers(col)"
   ]
  },
  {
   "cell_type": "code",
   "execution_count": 14,
   "metadata": {},
   "outputs": [
    {
     "data": {
      "text/plain": [
       "[-1.1350464520108905,\n",
       " 1.2821257588077692,\n",
       " -0.6418141640978803,\n",
       " -0.42563134211920906,\n",
       " -0.506408038111346,\n",
       " -2.0,\n",
       " 2.4031983572159916,\n",
       " -3.0,\n",
       " -3.0,\n",
       " -0.3853717073893539,\n",
       " -3.0,\n",
       " 3.568854493618481,\n",
       " -0.6383941947930132,\n",
       " -3.0,\n",
       " -0.40056013491255893,\n",
       " -0.5232369812120083,\n",
       " -0.4727007766763278,\n",
       " -0.3727806367412585,\n",
       " -0.5512167099572509,\n",
       " 1.2506367906392803,\n",
       " -3.0]"
      ]
     },
     "execution_count": 14,
     "metadata": {},
     "output_type": "execute_result"
    }
   ],
   "source": [
    "kurt = [kurtosis(data[col].tolist()) for col in data.columns if data[col].dtype!=\"object\"]\n",
    "kurt"
   ]
  },
  {
   "cell_type": "code",
   "execution_count": 15,
   "metadata": {},
   "outputs": [
    {
     "data": {
      "text/plain": [
       "<AxesSubplot:>"
      ]
     },
     "execution_count": 15,
     "metadata": {},
     "output_type": "execute_result"
    },
    {
     "data": {
      "image/png": "[encoded data removed]",
      "text/plain": [
       "<Figure size 432x288 with 2 Axes>"
      ]
     },
     "metadata": {
      "needs_background": "light"
     },
     "output_type": "display_data"
    }
   ],
   "source": [
    "import seaborn as sns\n",
    "\n",
    "sns.heatmap(data.corr())"
   ]
  },
  {
   "cell_type": "code",
   "execution_count": 16,
   "metadata": {
    "scrolled": true
   },
   "outputs": [
    {
     "name": "stdout",
     "output_type": "stream",
     "text": [
      "url\n",
      "boilerplate\n",
      "alchemy_category\n",
      "alchemy_category_score\n",
      "is_news\n",
      "news_front_page\n",
      "title\n",
      "body\n"
     ]
    }
   ],
   "source": [
    "for col in data.columns:\n",
    "    if data[col].dtype == \"object\":\n",
    "        print(col)"
   ]
  },
  {
   "cell_type": "code",
   "execution_count": 17,
   "metadata": {},
   "outputs": [
    {
     "data": {
      "text/plain": [
       "0       1.0\n",
       "1       1.0\n",
       "2       1.0\n",
       "3       1.0\n",
       "4       1.0\n",
       "       ... \n",
       "7390    1.0\n",
       "7391    1.0\n",
       "7392    1.0\n",
       "7393    1.0\n",
       "7394    1.0\n",
       "Name: label, Length: 7395, dtype: float64"
      ]
     },
     "execution_count": 17,
     "metadata": {},
     "output_type": "execute_result"
    }
   ],
   "source": [
    "data[\"label\"]"
   ]
  },
  {
   "cell_type": "code",
   "execution_count": 18,
   "metadata": {},
   "outputs": [
    {
     "data": {
      "text/plain": [
       "?                     2342\n",
       "recreation            1229\n",
       "arts_entertainment     941\n",
       "business               880\n",
       "health                 506\n",
       "sports                 380\n",
       "culture_politics       343\n",
       "computer_internet      296\n",
       "science_technology     289\n",
       "gaming                  76\n",
       "religion                72\n",
       "law_crime               31\n",
       "unknown                  6\n",
       "weather                  4\n",
       "Name: alchemy_category, dtype: int64"
      ]
     },
     "execution_count": 18,
     "metadata": {},
     "output_type": "execute_result"
    }
   ],
   "source": [
    "data[\"alchemy_category\"].value_counts()"
   ]
  },
  {
   "cell_type": "code",
   "execution_count": 22,
   "metadata": {},
   "outputs": [],
   "source": [
    "data[\"alchemy_category_score\"].replace(\"?\",\"0\",inplace=True)"
   ]
  },
  {
   "cell_type": "code",
   "execution_count": 24,
   "metadata": {},
   "outputs": [],
   "source": [
    "data[\"alchemy_category_score\"] = data[\"alchemy_category_score\"].astype(\"float\")"
   ]
  },
  {
   "cell_type": "code",
   "execution_count": 25,
   "metadata": {},
   "outputs": [],
   "source": [
    "data[\"alchemy_category\"] = data[\"alchemy_category\"].astype(\"category\")"
   ]
  },
  {
   "cell_type": "code",
   "execution_count": 26,
   "metadata": {},
   "outputs": [],
   "source": [
    "data[\"alchemy_category\"] = data[\"alchemy_category\"].cat.codes"
   ]
  },
  {
   "cell_type": "code",
   "execution_count": 30,
   "metadata": {},
   "outputs": [
    {
     "data": {
      "text/plain": [
       "dtype('int8')"
      ]
     },
     "execution_count": 30,
     "metadata": {},
     "output_type": "execute_result"
    }
   ],
   "source": [
    "data[\"alchemy_category\"].dtypes"
   ]
  },
  {
   "cell_type": "code",
   "execution_count": 27,
   "metadata": {},
   "outputs": [
    {
     "data": {
      "text/plain": [
       "1    4552\n",
       "?    2843\n",
       "Name: is_news, dtype: int64"
      ]
     },
     "execution_count": 27,
     "metadata": {},
     "output_type": "execute_result"
    }
   ],
   "source": [
    "data[\"is_news\"].value_counts()"
   ]
  },
  {
   "cell_type": "code",
   "execution_count": 28,
   "metadata": {},
   "outputs": [],
   "source": [
    "data[\"is_news\"].replace(\"?\",\"0\",inplace=True)"
   ]
  },
  {
   "cell_type": "code",
   "execution_count": 29,
   "metadata": {},
   "outputs": [],
   "source": [
    "data[\"is_news\"] = data[\"is_news\"].astype(\"category\").cat.codes"
   ]
  },
  {
   "cell_type": "code",
   "execution_count": 31,
   "metadata": {},
   "outputs": [
    {
     "data": {
      "text/plain": [
       "dtype('int8')"
      ]
     },
     "execution_count": 31,
     "metadata": {},
     "output_type": "execute_result"
    }
   ],
   "source": [
    "data[\"is_news\"].dtype"
   ]
  },
  {
   "cell_type": "code",
   "execution_count": 35,
   "metadata": {},
   "outputs": [
    {
     "data": {
      "text/plain": [
       "0    5853\n",
       "?    1248\n",
       "1     294\n",
       "Name: news_front_page, dtype: int64"
      ]
     },
     "execution_count": 35,
     "metadata": {},
     "output_type": "execute_result"
    }
   ],
   "source": [
    "data[\"news_front_page\"].value_counts()"
   ]
  },
  {
   "cell_type": "code",
   "execution_count": 36,
   "metadata": {},
   "outputs": [
    {
     "data": {
      "text/plain": [
       "dtype('int8')"
      ]
     },
     "execution_count": 36,
     "metadata": {},
     "output_type": "execute_result"
    }
   ],
   "source": [
    "data[\"news_front_page\"].replace(\"?\",\"0\",inplace=True)\n",
    "data[\"news_front_page\"] = data[\"news_front_page\"].astype(\"category\").cat.codes\n",
    "data[\"news_front_page\"].dtype"
   ]
  },
  {
   "cell_type": "code",
   "execution_count": 42,
   "metadata": {},
   "outputs": [
    {
     "data": {
      "text/plain": [
       "0.0    7395\n",
       "Name: hasDomainLink, dtype: int64"
      ]
     },
     "execution_count": 42,
     "metadata": {},
     "output_type": "execute_result"
    }
   ],
   "source": [
    "data[\"hasDomainLink\"].value_counts()"
   ]
  },
  {
   "cell_type": "code",
   "execution_count": 43,
   "metadata": {},
   "outputs": [
    {
     "data": {
      "text/plain": [
       "4008.5    4109\n",
       "8745.5    1180\n",
       "5584.0       5\n",
       "6433.0       5\n",
       "4349.0       5\n",
       "          ... \n",
       "5924.0       1\n",
       "5452.0       1\n",
       "8385.0       1\n",
       "5405.0       1\n",
       "4985.0       1\n",
       "Name: non_markup_alphanum_characters, Length: 1650, dtype: int64"
      ]
     },
     "execution_count": 43,
     "metadata": {},
     "output_type": "execute_result"
    }
   ],
   "source": [
    "data[\"non_markup_alphanum_characters\"].value_counts()"
   ]
  },
  {
   "cell_type": "code",
   "execution_count": 37,
   "metadata": {},
   "outputs": [
    {
     "name": "stdout",
     "output_type": "stream",
     "text": [
      "<class 'pandas.core.frame.DataFrame'>\n",
      "RangeIndex: 7395 entries, 0 to 7394\n",
      "Data columns (total 29 columns):\n",
      " #   Column                          Non-Null Count  Dtype  \n",
      "---  ------                          --------------  -----  \n",
      " 0   url                             7335 non-null   object \n",
      " 1   urlid                           7395 non-null   float64\n",
      " 2   boilerplate                     7395 non-null   object \n",
      " 3   alchemy_category                7395 non-null   int8   \n",
      " 4   alchemy_category_score          7395 non-null   float64\n",
      " 5   avglinksize                     7395 non-null   float64\n",
      " 6   commonlinkratio_1               7395 non-null   float64\n",
      " 7   commonlinkratio_2               7395 non-null   float64\n",
      " 8   commonlinkratio_3               7395 non-null   float64\n",
      " 9   commonlinkratio_4               7395 non-null   float64\n",
      " 10  compression_ratio               7395 non-null   float64\n",
      " 11  embed_ratio                     7395 non-null   float64\n",
      " 12  framebased                      7395 non-null   float64\n",
      " 13  frameTagRatio                   7395 non-null   float64\n",
      " 14  hasDomainLink                   7395 non-null   float64\n",
      " 15  html_ratio                      7395 non-null   float64\n",
      " 16  image_ratio                     7395 non-null   float64\n",
      " 17  is_news                         7395 non-null   int8   \n",
      " 18  lengthyLinkDomain               7395 non-null   float64\n",
      " 19  linkwordscore                   7395 non-null   float64\n",
      " 20  news_front_page                 7395 non-null   int8   \n",
      " 21  non_markup_alphanum_characters  7395 non-null   float64\n",
      " 22  numberOfLinks                   7395 non-null   float64\n",
      " 23  numwords_in_url                 7395 non-null   float64\n",
      " 24  parametrizedLinkRatio           7395 non-null   float64\n",
      " 25  spelling_errors_ratio           7395 non-null   float64\n",
      " 26  label                           7395 non-null   float64\n",
      " 27  title                           7382 non-null   object \n",
      " 28  body                            7338 non-null   object \n",
      "dtypes: float64(22), int8(3), object(4)\n",
      "memory usage: 1.5+ MB\n"
     ]
    }
   ],
   "source": [
    "data.info()"
   ]
  },
  {
   "cell_type": "code",
   "execution_count": 40,
   "metadata": {},
   "outputs": [
    {
     "data": {
      "text/plain": [
       "['urlid',\n",
       " 'alchemy_category',\n",
       " 'alchemy_category_score',\n",
       " 'avglinksize',\n",
       " 'commonlinkratio_1',\n",
       " 'commonlinkratio_2',\n",
       " 'commonlinkratio_3',\n",
       " 'commonlinkratio_4',\n",
       " 'compression_ratio',\n",
       " 'embed_ratio',\n",
       " 'framebased',\n",
       " 'frameTagRatio',\n",
       " 'hasDomainLink',\n",
       " 'html_ratio',\n",
       " 'image_ratio',\n",
       " 'is_news',\n",
       " 'lengthyLinkDomain',\n",
       " 'linkwordscore',\n",
       " 'news_front_page',\n",
       " 'non_markup_alphanum_characters',\n",
       " 'numberOfLinks',\n",
       " 'numwords_in_url',\n",
       " 'parametrizedLinkRatio',\n",
       " 'spelling_errors_ratio',\n",
       " 'label']"
      ]
     },
     "execution_count": 40,
     "metadata": {},
     "output_type": "execute_result"
    }
   ],
   "source": [
    "numerical_cols = [col for col in data.columns if data[col].dtypes!=\"object\"]\n",
    "numerical_cols"
   ]
  },
  {
   "cell_type": "code",
   "execution_count": 46,
   "metadata": {},
   "outputs": [
    {
     "data": {
      "text/html": [
       "<div>\n",
       "<style scoped>\n",
       "    .dataframe tbody tr th:only-of-type {\n",
       "        vertical-align: middle;\n",
       "    }\n",
       "\n",
       "    .dataframe tbody tr th {\n",
       "        vertical-align: top;\n",
       "    }\n",
       "\n",
       "    .dataframe thead th {\n",
       "        text-align: right;\n",
       "    }\n",
       "</style>\n",
       "<table border=\"1\" class=\"dataframe\">\n",
       "  <thead>\n",
       "    <tr style=\"text-align: right;\">\n",
       "      <th></th>\n",
       "      <th>alchemy_category_score</th>\n",
       "      <th>avglinksize</th>\n",
       "      <th>commonlinkratio_1</th>\n",
       "      <th>commonlinkratio_2</th>\n",
       "      <th>commonlinkratio_3</th>\n",
       "      <th>commonlinkratio_4</th>\n",
       "      <th>compression_ratio</th>\n",
       "      <th>embed_ratio</th>\n",
       "      <th>framebased</th>\n",
       "      <th>frameTagRatio</th>\n",
       "      <th>html_ratio</th>\n",
       "      <th>image_ratio</th>\n",
       "      <th>lengthyLinkDomain</th>\n",
       "      <th>linkwordscore</th>\n",
       "      <th>news_front_page</th>\n",
       "      <th>non_markup_alphanum_characters</th>\n",
       "      <th>numberOfLinks</th>\n",
       "      <th>numwords_in_url</th>\n",
       "      <th>parametrizedLinkRatio</th>\n",
       "      <th>spelling_errors_ratio</th>\n",
       "    </tr>\n",
       "  </thead>\n",
       "  <tbody>\n",
       "    <tr>\n",
       "      <th>0</th>\n",
       "      <td>0.789131</td>\n",
       "      <td>2.055556</td>\n",
       "      <td>0.676471</td>\n",
       "      <td>0.205882</td>\n",
       "      <td>0.100000</td>\n",
       "      <td>0.065065</td>\n",
       "      <td>0.443783</td>\n",
       "      <td>0.0</td>\n",
       "      <td>0.0</td>\n",
       "      <td>0.090774</td>\n",
       "      <td>0.245831</td>\n",
       "      <td>0.197850</td>\n",
       "      <td>1.0</td>\n",
       "      <td>24.0</td>\n",
       "      <td>0</td>\n",
       "      <td>5424.0</td>\n",
       "      <td>170.0</td>\n",
       "      <td>8.0</td>\n",
       "      <td>0.179823</td>\n",
       "      <td>0.079130</td>\n",
       "    </tr>\n",
       "    <tr>\n",
       "      <th>1</th>\n",
       "      <td>0.574147</td>\n",
       "      <td>3.677966</td>\n",
       "      <td>0.508021</td>\n",
       "      <td>0.288770</td>\n",
       "      <td>0.166667</td>\n",
       "      <td>0.065065</td>\n",
       "      <td>0.468649</td>\n",
       "      <td>0.0</td>\n",
       "      <td>0.0</td>\n",
       "      <td>0.098707</td>\n",
       "      <td>0.203490</td>\n",
       "      <td>0.197850</td>\n",
       "      <td>1.0</td>\n",
       "      <td>40.0</td>\n",
       "      <td>0</td>\n",
       "      <td>4973.0</td>\n",
       "      <td>187.0</td>\n",
       "      <td>9.0</td>\n",
       "      <td>0.181818</td>\n",
       "      <td>0.125448</td>\n",
       "    </tr>\n",
       "    <tr>\n",
       "      <th>2</th>\n",
       "      <td>0.996526</td>\n",
       "      <td>2.382883</td>\n",
       "      <td>0.562016</td>\n",
       "      <td>0.321705</td>\n",
       "      <td>0.120155</td>\n",
       "      <td>0.065065</td>\n",
       "      <td>0.525448</td>\n",
       "      <td>0.0</td>\n",
       "      <td>0.0</td>\n",
       "      <td>0.072448</td>\n",
       "      <td>0.226402</td>\n",
       "      <td>0.197850</td>\n",
       "      <td>1.0</td>\n",
       "      <td>55.0</td>\n",
       "      <td>0</td>\n",
       "      <td>4008.5</td>\n",
       "      <td>258.0</td>\n",
       "      <td>11.0</td>\n",
       "      <td>0.179823</td>\n",
       "      <td>0.057613</td>\n",
       "    </tr>\n",
       "    <tr>\n",
       "      <th>3</th>\n",
       "      <td>0.801248</td>\n",
       "      <td>1.543103</td>\n",
       "      <td>0.400000</td>\n",
       "      <td>0.142105</td>\n",
       "      <td>0.100000</td>\n",
       "      <td>0.065065</td>\n",
       "      <td>0.480725</td>\n",
       "      <td>0.0</td>\n",
       "      <td>0.0</td>\n",
       "      <td>0.095861</td>\n",
       "      <td>0.265656</td>\n",
       "      <td>0.197850</td>\n",
       "      <td>1.0</td>\n",
       "      <td>24.0</td>\n",
       "      <td>0</td>\n",
       "      <td>4008.5</td>\n",
       "      <td>120.0</td>\n",
       "      <td>5.0</td>\n",
       "      <td>0.179823</td>\n",
       "      <td>0.100858</td>\n",
       "    </tr>\n",
       "    <tr>\n",
       "      <th>4</th>\n",
       "      <td>0.719157</td>\n",
       "      <td>2.676471</td>\n",
       "      <td>0.500000</td>\n",
       "      <td>0.222222</td>\n",
       "      <td>0.123457</td>\n",
       "      <td>0.065065</td>\n",
       "      <td>0.446143</td>\n",
       "      <td>0.0</td>\n",
       "      <td>0.0</td>\n",
       "      <td>0.030705</td>\n",
       "      <td>0.228887</td>\n",
       "      <td>0.197850</td>\n",
       "      <td>1.0</td>\n",
       "      <td>22.0</td>\n",
       "      <td>0</td>\n",
       "      <td>8745.5</td>\n",
       "      <td>162.0</td>\n",
       "      <td>10.0</td>\n",
       "      <td>0.179823</td>\n",
       "      <td>0.082569</td>\n",
       "    </tr>\n",
       "    <tr>\n",
       "      <th>...</th>\n",
       "      <td>...</td>\n",
       "      <td>...</td>\n",
       "      <td>...</td>\n",
       "      <td>...</td>\n",
       "      <td>...</td>\n",
       "      <td>...</td>\n",
       "      <td>...</td>\n",
       "      <td>...</td>\n",
       "      <td>...</td>\n",
       "      <td>...</td>\n",
       "      <td>...</td>\n",
       "      <td>...</td>\n",
       "      <td>...</td>\n",
       "      <td>...</td>\n",
       "      <td>...</td>\n",
       "      <td>...</td>\n",
       "      <td>...</td>\n",
       "      <td>...</td>\n",
       "      <td>...</td>\n",
       "      <td>...</td>\n",
       "    </tr>\n",
       "    <tr>\n",
       "      <th>7390</th>\n",
       "      <td>0.651067</td>\n",
       "      <td>3.010526</td>\n",
       "      <td>0.474747</td>\n",
       "      <td>0.222222</td>\n",
       "      <td>0.166667</td>\n",
       "      <td>0.065065</td>\n",
       "      <td>0.474273</td>\n",
       "      <td>0.0</td>\n",
       "      <td>0.0</td>\n",
       "      <td>0.116212</td>\n",
       "      <td>0.256669</td>\n",
       "      <td>0.197850</td>\n",
       "      <td>1.0</td>\n",
       "      <td>38.0</td>\n",
       "      <td>0</td>\n",
       "      <td>4008.5</td>\n",
       "      <td>99.0</td>\n",
       "      <td>11.0</td>\n",
       "      <td>0.179823</td>\n",
       "      <td>0.071429</td>\n",
       "    </tr>\n",
       "    <tr>\n",
       "      <th>7391</th>\n",
       "      <td>0.141920</td>\n",
       "      <td>2.208054</td>\n",
       "      <td>0.483333</td>\n",
       "      <td>0.246667</td>\n",
       "      <td>0.100000</td>\n",
       "      <td>0.065065</td>\n",
       "      <td>0.558184</td>\n",
       "      <td>0.0</td>\n",
       "      <td>0.0</td>\n",
       "      <td>0.057377</td>\n",
       "      <td>0.218014</td>\n",
       "      <td>0.225962</td>\n",
       "      <td>1.0</td>\n",
       "      <td>34.0</td>\n",
       "      <td>0</td>\n",
       "      <td>5672.0</td>\n",
       "      <td>300.0</td>\n",
       "      <td>4.0</td>\n",
       "      <td>0.179823</td>\n",
       "      <td>0.109453</td>\n",
       "    </tr>\n",
       "    <tr>\n",
       "      <th>7392</th>\n",
       "      <td>0.196273</td>\n",
       "      <td>2.000000</td>\n",
       "      <td>0.315789</td>\n",
       "      <td>0.171053</td>\n",
       "      <td>0.105263</td>\n",
       "      <td>0.065065</td>\n",
       "      <td>0.692529</td>\n",
       "      <td>0.0</td>\n",
       "      <td>0.0</td>\n",
       "      <td>0.116212</td>\n",
       "      <td>0.248388</td>\n",
       "      <td>0.275551</td>\n",
       "      <td>1.0</td>\n",
       "      <td>43.0</td>\n",
       "      <td>0</td>\n",
       "      <td>4008.5</td>\n",
       "      <td>99.0</td>\n",
       "      <td>5.0</td>\n",
       "      <td>0.302774</td>\n",
       "      <td>0.117647</td>\n",
       "    </tr>\n",
       "    <tr>\n",
       "      <th>7393</th>\n",
       "      <td>0.617876</td>\n",
       "      <td>1.026316</td>\n",
       "      <td>0.210526</td>\n",
       "      <td>0.142105</td>\n",
       "      <td>0.100000</td>\n",
       "      <td>0.065065</td>\n",
       "      <td>1.242152</td>\n",
       "      <td>0.0</td>\n",
       "      <td>0.0</td>\n",
       "      <td>0.097778</td>\n",
       "      <td>0.256070</td>\n",
       "      <td>0.197850</td>\n",
       "      <td>1.0</td>\n",
       "      <td>37.0</td>\n",
       "      <td>1</td>\n",
       "      <td>4008.5</td>\n",
       "      <td>99.0</td>\n",
       "      <td>2.5</td>\n",
       "      <td>0.179823</td>\n",
       "      <td>0.215485</td>\n",
       "    </tr>\n",
       "    <tr>\n",
       "      <th>7394</th>\n",
       "      <td>0.000000</td>\n",
       "      <td>1.158209</td>\n",
       "      <td>0.505917</td>\n",
       "      <td>0.428994</td>\n",
       "      <td>0.100000</td>\n",
       "      <td>0.065065</td>\n",
       "      <td>0.434146</td>\n",
       "      <td>0.0</td>\n",
       "      <td>0.0</td>\n",
       "      <td>0.030705</td>\n",
       "      <td>0.137454</td>\n",
       "      <td>0.275551</td>\n",
       "      <td>1.0</td>\n",
       "      <td>64.0</td>\n",
       "      <td>0</td>\n",
       "      <td>4008.5</td>\n",
       "      <td>338.0</td>\n",
       "      <td>4.0</td>\n",
       "      <td>0.179823</td>\n",
       "      <td>0.134146</td>\n",
       "    </tr>\n",
       "  </tbody>\n",
       "</table>\n",
       "<p>7395 rows × 20 columns</p>\n",
       "</div>"
      ],
      "text/plain": [
       "      alchemy_category_score  avglinksize  commonlinkratio_1  \\\n",
       "0                   0.789131     2.055556           0.676471   \n",
       "1                   0.574147     3.677966           0.508021   \n",
       "2                   0.996526     2.382883           0.562016   \n",
       "3                   0.801248     1.543103           0.400000   \n",
       "4                   0.719157     2.676471           0.500000   \n",
       "...                      ...          ...                ...   \n",
       "7390                0.651067     3.010526           0.474747   \n",
       "7391                0.141920     2.208054           0.483333   \n",
       "7392                0.196273     2.000000           0.315789   \n",
       "7393                0.617876     1.026316           0.210526   \n",
       "7394                0.000000     1.158209           0.505917   \n",
       "\n",
       "      commonlinkratio_2  commonlinkratio_3  commonlinkratio_4  \\\n",
       "0              0.205882           0.100000           0.065065   \n",
       "1              0.288770           0.166667           0.065065   \n",
       "2              0.321705           0.120155           0.065065   \n",
       "3              0.142105           0.100000           0.065065   \n",
       "4              0.222222           0.123457           0.065065   \n",
       "...                 ...                ...                ...   \n",
       "7390           0.222222           0.166667           0.065065   \n",
       "7391           0.246667           0.100000           0.065065   \n",
       "7392           0.171053           0.105263           0.065065   \n",
       "7393           0.142105           0.100000           0.065065   \n",
       "7394           0.428994           0.100000           0.065065   \n",
       "\n",
       "      compression_ratio  embed_ratio  framebased  frameTagRatio  html_ratio  \\\n",
       "0              0.443783          0.0         0.0       0.090774    0.245831   \n",
       "1              0.468649          0.0         0.0       0.098707    0.203490   \n",
       "2              0.525448          0.0         0.0       0.072448    0.226402   \n",
       "3              0.480725          0.0         0.0       0.095861    0.265656   \n",
       "4              0.446143          0.0         0.0       0.030705    0.228887   \n",
       "...                 ...          ...         ...            ...         ...   \n",
       "7390           0.474273          0.0         0.0       0.116212    0.256669   \n",
       "7391           0.558184          0.0         0.0       0.057377    0.218014   \n",
       "7392           0.692529          0.0         0.0       0.116212    0.248388   \n",
       "7393           1.242152          0.0         0.0       0.097778    0.256070   \n",
       "7394           0.434146          0.0         0.0       0.030705    0.137454   \n",
       "\n",
       "      image_ratio  lengthyLinkDomain  linkwordscore  news_front_page  \\\n",
       "0        0.197850                1.0           24.0                0   \n",
       "1        0.197850                1.0           40.0                0   \n",
       "2        0.197850                1.0           55.0                0   \n",
       "3        0.197850                1.0           24.0                0   \n",
       "4        0.197850                1.0           22.0                0   \n",
       "...           ...                ...            ...              ...   \n",
       "7390     0.197850                1.0           38.0                0   \n",
       "7391     0.225962                1.0           34.0                0   \n",
       "7392     0.275551                1.0           43.0                0   \n",
       "7393     0.197850                1.0           37.0                1   \n",
       "7394     0.275551                1.0           64.0                0   \n",
       "\n",
       "      non_markup_alphanum_characters  numberOfLinks  numwords_in_url  \\\n",
       "0                             5424.0          170.0              8.0   \n",
       "1                             4973.0          187.0              9.0   \n",
       "2                             4008.5          258.0             11.0   \n",
       "3                             4008.5          120.0              5.0   \n",
       "4                             8745.5          162.0             10.0   \n",
       "...                              ...            ...              ...   \n",
       "7390                          4008.5           99.0             11.0   \n",
       "7391                          5672.0          300.0              4.0   \n",
       "7392                          4008.5           99.0              5.0   \n",
       "7393                          4008.5           99.0              2.5   \n",
       "7394                          4008.5          338.0              4.0   \n",
       "\n",
       "      parametrizedLinkRatio  spelling_errors_ratio  \n",
       "0                  0.179823               0.079130  \n",
       "1                  0.181818               0.125448  \n",
       "2                  0.179823               0.057613  \n",
       "3                  0.179823               0.100858  \n",
       "4                  0.179823               0.082569  \n",
       "...                     ...                    ...  \n",
       "7390               0.179823               0.071429  \n",
       "7391               0.179823               0.109453  \n",
       "7392               0.302774               0.117647  \n",
       "7393               0.179823               0.215485  \n",
       "7394               0.179823               0.134146  \n",
       "\n",
       "[7395 rows x 20 columns]"
      ]
     },
     "execution_count": 46,
     "metadata": {},
     "output_type": "execute_result"
    }
   ],
   "source": [
    "X = data[numerical_cols].drop([\"urlid\",\"alchemy_category\",\"is_news\",\"hasDomainLink\",\"label\"],axis=1)\n",
    "X"
   ]
  },
  {
   "cell_type": "code",
   "execution_count": 50,
   "metadata": {},
   "outputs": [
    {
     "data": {
      "text/plain": [
       "15"
      ]
     },
     "execution_count": 50,
     "metadata": {},
     "output_type": "execute_result"
    }
   ],
   "source": [
    "import math\n",
    "\n",
    "k = math.ceil(0.75*len(X.columns))\n",
    "k"
   ]
  },
  {
   "cell_type": "code",
   "execution_count": 54,
   "metadata": {},
   "outputs": [
    {
     "data": {
      "text/plain": [
       "array([[ 0.0650647 ,  0.44378317,  0.        , ...,  8.        ,\n",
       "         0.17982314,  0.07912957],\n",
       "       [ 0.0650647 ,  0.468649  ,  0.        , ...,  9.        ,\n",
       "         0.18181818,  0.12544803],\n",
       "       [ 0.0650647 ,  0.52544803,  0.        , ..., 11.        ,\n",
       "         0.17982314,  0.05761317],\n",
       "       ...,\n",
       "       [ 0.0650647 ,  0.69252874,  0.        , ...,  5.        ,\n",
       "         0.30277396,  0.11764706],\n",
       "       [ 0.0650647 ,  1.24215154,  0.        , ...,  2.5       ,\n",
       "         0.17982314,  0.21548463],\n",
       "       [ 0.0650647 ,  0.43414634,  0.        , ...,  4.        ,\n",
       "         0.17982314,  0.13414634]])"
      ]
     },
     "execution_count": 54,
     "metadata": {},
     "output_type": "execute_result"
    }
   ],
   "source": [
    "# Lets use SelectKBest and chi2 to see how feature selection works and decrese 25% of numerical columns\n",
    "\n",
    "from sklearn.feature_selection import SelectKBest,chi2\n",
    "\n",
    "reg = SelectKBest(chi2,k=k).fit(X,data[\"label\"])\n",
    "X_transformed = reg.transform(X)\n",
    "X_transformed\n"
   ]
  },
  {
   "cell_type": "code",
   "execution_count": 55,
   "metadata": {},
   "outputs": [
    {
     "data": {
      "text/plain": [
       "False"
      ]
     },
     "execution_count": 55,
     "metadata": {},
     "output_type": "execute_result"
    }
   ],
   "source": [
    "reg.get_support()[1]"
   ]
  },
  {
   "cell_type": "code",
   "execution_count": 56,
   "metadata": {},
   "outputs": [
    {
     "data": {
      "text/plain": [
       "['commonlinkratio_4',\n",
       " 'compression_ratio',\n",
       " 'embed_ratio',\n",
       " 'framebased',\n",
       " 'frameTagRatio',\n",
       " 'html_ratio',\n",
       " 'image_ratio',\n",
       " 'lengthyLinkDomain',\n",
       " 'linkwordscore',\n",
       " 'news_front_page',\n",
       " 'non_markup_alphanum_characters',\n",
       " 'numberOfLinks',\n",
       " 'numwords_in_url',\n",
       " 'parametrizedLinkRatio',\n",
       " 'spelling_errors_ratio']"
      ]
     },
     "execution_count": 56,
     "metadata": {},
     "output_type": "execute_result"
    }
   ],
   "source": [
    "selected_cols = [col for i,col in enumerate(X.columns) if reg.get_support()[i]]\n",
    "selected_cols"
   ]
  },
  {
   "cell_type": "code",
   "execution_count": null,
   "metadata": {},
   "outputs": [],
   "source": []
  }
 ],
 "metadata": {
  "kernelspec": {
   "display_name": "Python 3",
   "language": "python",
   "name": "python3"
  },
  "language_info": {
   "codemirror_mode": {
    "name": "ipython",
    "version": 3
   },
   "file_extension": ".py",
   "mimetype": "text/x-python",
   "name": "python",
   "nbconvert_exporter": "python",
   "pygments_lexer": "ipython3",
   "version": "3.7.7"
  }
 },
 "nbformat": 4,
 "nbformat_minor": 4
}
